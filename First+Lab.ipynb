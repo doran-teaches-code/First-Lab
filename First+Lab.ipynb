{
 "cells": [
  {
   "cell_type": "markdown",
   "metadata": {},
   "source": [
    "# Statistical Analysis of Fremont Bridge Bike Crossings Since 2012"
   ]
  },
  {
   "cell_type": "raw",
   "metadata": {
    "collapsed": true
   },
   "source": [
    "Introduction:\n",
    "\n",
    "In this lab the student has to examine bike crossing data and ask some researchable questions.\n",
    "\n",
    "Research Questions:\n",
    "\n",
    "1.What are and what causes sudden spikes and decreases in data?\n",
    "2. If there are any outliers what causes those?\n",
    "3. What is the most popular direction and day?\n",
    "4. What are differences in the data between the month of september and then the dataset of 2 years?\n",
    "\n",
    "Data Set Preparation:\n",
    "\n",
    "The dataset that will be used represents all bike crossings from 09/01/15 to 08/31/16. The source that I used to find this dataset is \"data.wa.gov\".\n"
   ]
  },
  {
   "cell_type": "markdown",
   "metadata": {
    "collapsed": true
   },
   "source": [
    "# Code for one month/Frebridge1"
   ]
  },
  {
   "cell_type": "code",
   "execution_count": 24,
   "metadata": {
    "collapsed": true
   },
   "outputs": [],
   "source": [
    "#The first thing that I am analyzing is september\n",
    "\n",
    "import statistics\n",
    "sep_west = [];\n",
    "sep_east = [];\n",
    "#I'm only opening the data file with one month\n",
    "sep_data_file = open(\"Data Files/FreBridge1.csv\", \"r\");\n",
    "sep_bridge_data = [];\n",
    "for ii in sep_data_file:\n",
    "    sep_bridge_data.append(ii);\n",
    "sep_data_file.close();\n",
    "#deleting because the first time is irrelevant\n",
    "del sep_bridge_data[0];\n",
    "#create empty lists for westbound and eastbound bikes\n",
    "sep_west = [];\n",
    "sep_east = [];\n",
    "for tt in range(len(sep_bridge_data)):\n",
    "    #make into a list of lists of just numbers\n",
    "    sep_bridge_data[tt] = sep_bridge_data[tt].split(\",\");\n",
    "    #add data to specific lists for west and east\n",
    "    sep_west.append(int(sep_bridge_data[tt][1]));\n",
    "    sep_east.append(int(sep_bridge_data[tt][2]));\n",
    "#I probably could've used a loop but I am still not adept at looping text \n",
    "mon=(\"Monday Westbound Traffic:\",sep_west[0::7],statistics.mean(sep_west[0::7]),statistics.median(sep_west[0::7]))\n",
    "tue=(\"Tuesday Westbound Traffic:\",sep_west[1::7],statistics.mean(sep_west[1::7]),statistics.median(sep_west[1::7]))\n",
    "wed=(\"Wednesday Westbound Traffic:\",sep_west[2::7],statistics.mean(sep_west[2::7]),statistics.median(sep_west[2::7]))\n",
    "thu=(\"Thursday Westbound Traffic:\",sep_west[3::7],statistics.mean(sep_west[3::7]),statistics.median(sep_west[3::7]))\n",
    "fri=(\"Friday Westbound Traffic:\",sep_west[4::7],statistics.mean(sep_west[4::7]),statistics.median(sep_west[4::7]))\n",
    "sat=(\"Saturday Westbound Traffic:\",sep_west[5::7],statistics.mean(sep_west[5::7]),statistics.median(sep_west[5::7]))\n",
    "sun=(\"Sunday Westbound Traffic:\",sep_west[6::7],statistics.mean(sep_west[6::7]),statistics.median(sep_west[6::7]))\n",
    "mon_e=(\"Monday Eastbound Traffic:\",sep_east[0::7],statistics.mean(sep_east[0::7]),statistics.median(sep_east[0::7]))\n",
    "tue_e=(\"Tuesday Eastbound Traffic:\",sep_east[1::7],statistics.mean(sep_east[1::7]),statistics.median(sep_east[1::7]))\n",
    "wed_e=(\"Wednesday Eastbound Traffic:\",sep_east[2::7],statistics.mean(sep_east[2::7]),statistics.median(sep_east[2::7]))\n",
    "thu_e=(\"Thursday Eastbound Traffic:\",sep_east[3::7],statistics.mean(sep_east[3::7]),statistics.median(sep_east[3::7]))\n",
    "fri_e=(\"Friday Eastbound Traffic:\",sep_east[4::7],statistics.mean(sep_east[4::7]),statistics.median(sep_east[4::7]))\n",
    "sat_e=(\"Saturday Eastbound Traffic:\",sep_east[5::7],statistics.mean(sep_east[5::7]),statistics.median(sep_east[5::7]))\n",
    "sun_e=(\"Sunday Eastbound Traffic:\",sep_east[6::7],statistics.mean(sep_east[6::7]),statistics.median(sep_east[6::7]))\n",
    "all_data = [sep_west,sep_east]\n",
    "#mean, median, range \n",
    "#first the mean of west bound traffic\n",
    "sep_west_mean = statistics.mean(sep_west)\n",
    "#now mean of the east \n",
    "sep_east_mean = statistics.mean(sep_east)\n",
    "#now I am combining west and east\n",
    "sep_mean = ((sep_west_mean+sep_east_mean)/2)\n",
    "#I could've done a loop that Im using later but I feel like analyzing one month will be a hassle\n",
    "#so medians now for both west and east and then the combination for all of september\n",
    "sep_west_median = statistics.median(sep_west)\n",
    "sep_east_median = statistics.median(sep_east)\n",
    "sep_median = ((sep_west_median+sep_east_median)/2)\n",
    "#uncomment everything to print all the analyzed data\n",
    "#print(mon)\n",
    "#print(tue)\n",
    "#print(wed)\n",
    "#print(thu)\n",
    "#print(fri)\n",
    "#print(sat)\n",
    "#print(sun)\n",
    "#print(mon_e)\n",
    "#print(tue_e)\n",
    "#print(wed_e)\n",
    "#print(thu_e)\n",
    "#print(fri_e)\n",
    "#print(sat_e)\n",
    "#print(sun_e)\n",
    "#print(sep_mean)\n",
    "#print(sep_median)\n",
    "#print(sep_west_mean)\n",
    "#print(sep_east_mean)"
   ]
  },
  {
   "cell_type": "markdown",
   "metadata": {},
   "source": [
    "# Thoughts after one month"
   ]
  },
  {
   "cell_type": "markdown",
   "metadata": {},
   "source": [
    "Things I learned from this dataset:\n",
    "\n",
    "1.Tuesday is the most popular day to ride a bike, especially eastbound. The numbers are about 2000 every Tuesday.\n",
    "2.Saturday is probably a day of rest, it is the most unpopular day with about only 600 going every saturday.\n",
    "3.Going Eastbound seems to be the most popular for all days except for Friday. Going westbound is more popular than going eastbound on friday same as saturday. \n",
    "4.There is a decrease starting from friday all the way to saturday, on sunday numbers start picking up again\n",
    "\n",
    "Strengths and Weaknesses:\n",
    "\n",
    "1.This dataset is too small to make any conclusive conclusions for bikes throughout a whole year\n",
    "2.By specifically focusing on September, people can see specific changes in days and see how weather can affect the numbers"
   ]
  },
  {
   "cell_type": "markdown",
   "metadata": {},
   "source": [
    "# Code for two years/ second dataset+first dataset/FreBridge1+FreBridge2"
   ]
  },
  {
   "cell_type": "code",
   "execution_count": 25,
   "metadata": {
    "collapsed": true
   },
   "outputs": [],
   "source": [
    "import statistics\n",
    "#this is my code to separate and analyze the datasets\n",
    "#I will be first opening the dataset files\n",
    "data_file = open(\"Data Files/FreBridge1.csv\", \"r\");\n",
    "data_file2 = open(\"Data Files/FreBridge2.csv\", \"r\")\n",
    "#creating a massive list for everything\n",
    "bridge_data = [];\n",
    "for ii in data_file and data_file2:\n",
    "    bridge_data.append(ii);\n",
    "data_file.close();\n",
    "data_file2.close();\n",
    "#time to process this information\n",
    "del bridge_data[0];\n",
    "#create empty lists for westbound and eastbound bikes\n",
    "west = [];\n",
    "east = [];    \n",
    "for jj in range(len(bridge_data)):\n",
    "    #make into a list of lists of just numbers\n",
    "    bridge_data[jj] = bridge_data[jj].split(\",\");\n",
    "    #add data to specific lists for west and east\n",
    "    west.append(int(bridge_data[jj][1]));\n",
    "    east.append(int(bridge_data[jj][2]));\n",
    "#splitting into days\n",
    "#it can help me find outliers and stuff to see which day is most popular\n",
    "mon=(\"Monday Westbound Traffic:\",west[0::7])\n",
    "tue=(\"Tuesday Westbound Traffic:\",west[1::7])\n",
    "wed=(\"Wednesday Westbound Traffic:\",west[2::7])\n",
    "thu=(\"Thursday Westbound Traffic:\",west[3::7])\n",
    "fri=(\"Friday Westbound Traffic:\",west[4::7])\n",
    "sat=(\"Saturday Westbound Traffic:\",west[5::7])\n",
    "sun=(\"Sunday Westbound Traffic:\",west[6::7])\n",
    "mon_e=(\"Monday Eastbound Traffic:\",east[0::7])\n",
    "tue_e=(\"Tuesday Eastbound Traffic:\",east[1::7])\n",
    "wed_e=(\"Wednesday Eastbound Traffic:\",east[2::7])\n",
    "thu_e=(\"Thursday Eastbound Traffic:\",east[3::7])\n",
    "fri_e=(\"Friday Eastbound Traffic:\",east[4::7])\n",
    "sat_e=(\"Saturday Eastbound Traffic:\",east[5::7])\n",
    "sun_e=(\"Sunday Eastbound Traffic:\",east[6::7])\n",
    "n=0\n",
    "wdmmmlist = []\n",
    "edmmmlist = []\n",
    "#at first I had tons of lines of code printing each mean median and mode for everything\n",
    "#mean median for all days from west and east\n",
    "#I created n\n",
    "#n is a variable that adds 1 to itself each time the loop runs\n",
    "#so I get all the way to the sixth term or should I say Sunday until the loop ends\n",
    "#no mode because no recurring terms\n",
    "while n!=7:\n",
    "    #what is mmm or emmm, mmm/emmm have the same purpose, they are both variables in a loop that repeat the mean median and mode for each day\n",
    "    mmm = (statistics.mean(west[n::7]),statistics.median(west[n::7]))\n",
    "    emmm = (statistics.mean(east[n::7]),statistics.median(east[n::7]))\n",
    "    wdmmmlist.append(mmm)\n",
    "    edmmmlist.append(emmm)\n",
    "    n+=1\n",
    "#now mean and median (no mode because recurring terms)\n",
    "#changed the list name by taking a d away because d represents days\n",
    "#don't need loops because i don't have multiple days\n",
    "#ymmm is west\n",
    "#yemmm is east\n",
    "#y stands for year\n",
    "ymmm = (statistics.mean(west),statistics.median(west))\n",
    "yemmm = (statistics.mean(east),statistics.median(east))\n",
    "#uncomment like if you do before to print out all the analyzed data\n",
    "#print(mon)\n",
    "#print(tue)\n",
    "#print(wed)\n",
    "#print(thu)\n",
    "#print(fri)\n",
    "#print(sat)\n",
    "#print(sun)\n",
    "#print(mon_e)\n",
    "#print(tue_e)\n",
    "#print(wed_e)\n",
    "#print(thu_e)\n",
    "#print(fri_e)\n",
    "#print(sat_e)\n",
    "#print(sun_e)\n",
    "#print(wdmmmlist)\n",
    "#print(edmmmlist)\n",
    "#print(ymmm)\n",
    "#print(yemmm)\n"
   ]
  },
  {
   "cell_type": "markdown",
   "metadata": {},
   "source": [
    "# Thoughts After Two Years"
   ]
  },
  {
   "cell_type": "markdown",
   "metadata": {},
   "source": [
    "Things I learned from this dataset:\n",
    "\n",
    "1.Going westbound is more popular than going eastbound.\n",
    "2.Biking on Thursday and Friday is not popular.\n",
    "3.Biking on Saturday and Sunday is the most popular\n",
    "4.Compared to september going west is more popular than east for the duration of 2 years rather than only one month\n",
    "5.Numbers have a sudden spike downards from wednesday to thursday, from 1556 to 877 or 1375 to 717 for west and east.\n",
    "\n",
    "Strengths and Weaknesses of this dataset:\n",
    "\n",
    "1.Knowing 2 years is good, however the data could be affected if one of the sensors was damaged\n",
    "2.Having the data for two years is very useful for measuring the popularity for bike travel on what day month and direction\n",
    "3.Although two years is an extensive amount of data, big data scientists strive to get more data allowing for a more conclusive answer"
   ]
  },
  {
   "cell_type": "markdown",
   "metadata": {
    "collapsed": true
   },
   "source": [
    "# Conclusions/Total Analysis/Answering all my questions"
   ]
  },
  {
   "cell_type": "markdown",
   "metadata": {},
   "source": [
    "    After running all the code I have made my conclusion about this dataset. Each dataset is wrought with flaws and biases however as a big data analyst I try looking past that. In this case, I noted spikes of increase and decrease between the days Friday and Saturday (increase) and Wednesday and Thursday (decrease). I assume that there was an increase in bikers from Friday to Saturday because of the weekday turning to the weekend with more going out due to school or work being over. However the sudden decrease between Wednesday and Thursday is inconclusive and I can not make a justified assumption for this. However for a date like 12/24/13 and 12/25/13, one can notice the sudden decrease between the two days, 603-221, because of christmas day. \n",
    "    \n",
    "    Then there are the outliers like I explained in my previous question there are many spikes and decreases with the data usually due to natural causes or holidays as explained with the day of Christmas. After that there is the most popular day and direction which is westbound on a Sunday. Although I cannot explain westbound, I can reasonably infer that Sunday is the most popular because it is a day of the weekend. Also it is more than Saturday because it is the last day of the weekend, and the last day is probably when people want to finish errands and other tasks. \n",
    "    \n",
    "    Finally the differences between September and the larger dataset. First off, in September eastbound was more popular than westbound. I can't explain this direction popularity because it does not have that many outside factors. Another difference is the days that are most popular, in the September dataset it is Tuesday, in the second dataset+first the most popular days are saturday and sunday. The second dataset includes all the seasons including spring and summer. The reason why saturday and sunday is generally more popular for biking is probably due to it being the weekend. Many people rest/relax and have fun on weekends. This is different because September is close to fall and probably less people have time to go out because of the general starting school year and the end of summer. \n",
    "    \n",
    "    Although this dataset does tell me a lot about popularity on the Fremont Bridge, its many spikes and decreases also pose a problem due to the fact that many are not due to weather or holidays but are influenced by other external factors."
   ]
  },
  {
   "cell_type": "markdown",
   "metadata": {},
   "source": [
    "# Final Questions"
   ]
  },
  {
   "cell_type": "raw",
   "metadata": {},
   "source": [
    "1.How long does it take to get a sensor back up and running?\n",
    "2.If some days had no data because of sensors, then what were those days?\n",
    "3.What are some other external factors that can affect the numbers, other than holidays and weathers?"
   ]
  },
  {
   "cell_type": "markdown",
   "metadata": {},
   "source": [
    "# Acknowledgements"
   ]
  },
  {
   "cell_type": "raw",
   "metadata": {
    "collapsed": true
   },
   "source": [
    "- Thank you to Michael Gary encouraging me to finish on time. \n",
    "- I used github to refresh my memory on coding python"
   ]
  }
 ],
 "metadata": {
  "kernelspec": {
   "display_name": "Python 3",
   "language": "python",
   "name": "python3"
  },
  "language_info": {
   "codemirror_mode": {
    "name": "ipython",
    "version": 3
   },
   "file_extension": ".py",
   "mimetype": "text/x-python",
   "name": "python",
   "nbconvert_exporter": "python",
   "pygments_lexer": "ipython3",
   "version": "3.6.1"
  }
 },
 "nbformat": 4,
 "nbformat_minor": 2
}
